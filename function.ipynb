{
  "nbformat": 4,
  "nbformat_minor": 0,
  "metadata": {
    "colab": {
      "provenance": []
    },
    "kernelspec": {
      "name": "python3",
      "display_name": "Python 3"
    },
    "language_info": {
      "name": "python"
    }
  },
  "cells": [
    {
      "cell_type": "markdown",
      "source": [
        "## **Theory Questions**"
      ],
      "metadata": {
        "id": "cRqwUTdUUKN-"
      }
    },
    {
      "cell_type": "markdown",
      "source": [
        "**QUE1-** **What is the difference between a function and a method in Python?**\n",
        "\n",
        "**ANS-** The difference is simple:\n",
        "\n",
        "* **Function** → Defined outside of a class and can be called directly.\n",
        "\n",
        "   * **example-** Function\n",
        "     * def greet(name):\n",
        "     * return f\"Hello, {name}!\"\n",
        "     * print(greet(\"Deepali\"))   # Calling function directly\n",
        "\n",
        "* **Method** → Defined inside a class and is called on an object (it needs self to work with the object’s data).\n",
        "\n",
        "  * **example-** Method (inside a class)\n",
        "    * class Person:\n",
        "     * def greet(self, name):\n",
        "      *  return f\"Hello, {name}!\"\n",
        "      * p = Person()\n",
        "      * print(p.greet(\"Deepali\"))"
      ],
      "metadata": {
        "id": "FCr2McGSUjOy"
      }
    },
    {
      "cell_type": "markdown",
      "source": [
        "**QUE2- Explain the concept of function arguments and parameters in Python.**\n",
        "\n",
        "**ANS-** **Parameters** → Variables written inside the function definition (like -placeholders).\n",
        "\n",
        "**Arguments** → Actual values you pass when calling the function.\n",
        "\n",
        "\n",
        "* Function with parameter 'name'\n",
        "  * def greet(name):\n",
        "\n",
        "    print(\"Hello,\", name)\n",
        "\n",
        "* Calling function with argument\n",
        "\n",
        "  * greet(\"Deepali\")   # \"Deepali\" is an argument\""
      ],
      "metadata": {
        "id": "OepvyhCnX05Y"
      }
    },
    {
      "cell_type": "markdown",
      "source": [
        "**QUE3-** **What are the different ways to define and call a function in Python?**\n",
        "\n",
        "**ANS-** Functions in Python can be defined in different ways and also called differently depending on arguments.\n",
        "\n",
        " -Ways to Define a Function\n",
        "\n",
        "* **Simple function** (no parameter)\n",
        "    * def greet():\n",
        "    * print(\"Hello!\")\n",
        "* **Function with parameters**\n",
        "  * def greet(name):\n",
        "  * print(\"Hello,\", name)\n",
        "* Function with default parameter\n",
        "  * def greet(name=\"Friend\"):\n",
        "  * print(\"Hello,\", name)\n",
        "\n",
        "* **Function with multiple parameters**\n",
        "  * def add(a, b):\n",
        "  * return a + b\n",
        "* **Function with variable number of arguments (*args)**\n",
        "  * def show_numbers(*numbers):\n",
        "  * print(numbers)\n",
        "* **Function with keyword arguments (**kwargs)**\n",
        "  * def show_details(**info):\n",
        "  * print(info)\n",
        "* **Lambda (anonymous function)**\n",
        "  * square = lambda x: x * x\n",
        "\n",
        "* Ways to Call a Function\n",
        "    * Without arguments\n",
        "        * greet()   # Output: Hello!\n",
        "    * With positional arguments\n",
        "        * greet(\"Deepali\")   # Output: Hello, Deepali\n",
        "    * With keyword arguments\n",
        "        * add(a=5, b=3)   # Output: 8\n",
        "    * Using default values\n",
        "\n",
        "        * greet()         # Output: Hello, Friend\n",
        "        * greet(\"Ajay\")   # Output: Hello, Ajay\n",
        "    * Passing many arguments with *args\n",
        "\n",
        "        * show_numbers(1, 2, 3, 4)   # Output: (1, 2, 3, 4)\n",
        "    * Passing dictionary values with **kwargs\n",
        "        * show_details(name=\"Deepali\", age=21)\n",
        "        * Output: {'name': 'Deepali', 'age': 21}\n",
        "    * Calling a lambda\n",
        "        * print(square(5))   # Output: 25\n",
        "\n",
        "\n",
        "👉 So, functions can be simple, flexible, or anonymous, and can be called in different ways depending on arguments."
      ],
      "metadata": {
        "id": "jHOEUvtMYpSI"
      }
    },
    {
      "cell_type": "markdown",
      "source": [
        "**QUE4-** **What is the purpose of the `return` statement in a Python function?**\n",
        "\n",
        "**ANS-** The return statement in Python is used to give back a result from a function.\n",
        "If you don’t use return, the function will not give back anything (it will give None).\n",
        "\n",
        "**for example**\n",
        "\n",
        "def square(x):\n",
        "\n",
        "    return x * x   # gives back the answer\n",
        "\n",
        "print(square(4))\n"
      ],
      "metadata": {
        "id": "W7Jx_1xqbMGU"
      }
    },
    {
      "cell_type": "markdown",
      "source": [
        "**QUE5-** **What are iterators in Python and how do they differ from iterables?**\n",
        "\n",
        "**ANS-** **Iterable:** An object you can loop through (like list, tuple, string).\n",
        "\n",
        "**Iterator:** An object that gives items from an iterable one by one, and remembers where it left off.\n",
        "\n",
        "**Example:**\n",
        "\n",
        "numbers = [10, 20, 30]   # iterable\n",
        "it = iter(numbers)       # iterator\n",
        "\n",
        "print(next(it))  # 10\n",
        "\n",
        "print(next(it))  # 20\n",
        "\n",
        "print(next(it))  # 30\n",
        "\n",
        "\n",
        "In short:\n",
        "\n",
        "Iterable = “something to loop over.”\n",
        "\n",
        "Iterator = “the tool that gives the items one by one.”"
      ],
      "metadata": {
        "id": "CweVAQ4KbdXk"
      }
    },
    {
      "cell_type": "markdown",
      "source": [
        "**QUE6-** **Explain the concept of generators in Python and how they are defined.**\n",
        "\n",
        "**ANS-** Generators are special functions that give values one at a time using the yield keyword.\n",
        "\n",
        "They don’t return all values at once (like a list), they produce values only when needed (saves memory).\n",
        "\n",
        "**How to define**\n",
        "\n",
        "Use def with yield instead of return.\n",
        "\n",
        "Example:\n",
        "\n",
        "def count_up_to(n):\n",
        "\n",
        "    for i in range(1, n+1):\n",
        "\n",
        "        yield i   # gives next value\n",
        "\n",
        "gen = count_up_to(3)\n",
        "\n",
        "print(next(gen))  # 1\n",
        "\n",
        "print(next(gen))  # 2\n",
        "\n",
        "print(next(gen))  # 3\n",
        "\n",
        "\n",
        "👉In short:\n",
        "Generator = function with yield that produces values one by one."
      ],
      "metadata": {
        "id": "lxCIzDOyR6n5"
      }
    },
    {
      "cell_type": "markdown",
      "source": [
        "**QUE7-** **What are the advantages of using generators over regular functions?**\n",
        "\n",
        "ANS- Generators save memory and compute values on demand, allowing iteration over large or infinite sequences efficiently.\n",
        "\n",
        "**Memory Efficient –** Generators produce items one at a time instead of storing the whole list in memory.\n",
        "\n",
        "**Lazy Evaluation –** Values are computed only when needed, which can save computation time.\n",
        "\n",
        "**Can Represent Infinite Sequences –** Generators can generate an endless sequence without running out of memory.\n",
        "\n",
        "**Cleaner Code for Iteration -** Using yield can make code for loops or pipelines simpler than building and returning full lists.\n",
        "\n",
        "In short: Generators save memory, compute values on demand, and can handle infinite sequences.\n",
        "\n",
        "# Generator function\n",
        "def squares(n):\n",
        "\n",
        "    for i in range(n):\n",
        "\n",
        "        yield i * i  # yields one value at a time\n",
        "\n",
        "# Using the generator\n",
        "\n",
        "for val in squares(5):\n",
        "\n",
        "    print(val)\n"
      ],
      "metadata": {
        "id": "yANYGzw0Sb0K"
      }
    },
    {
      "cell_type": "markdown",
      "source": [
        "**QUE8-** **What is a lambda function in Python and when is it typically used?**\n",
        "\n",
        "**ANS-** A lambda function is a small anonymous function defined with lambda instead of def. It’s used for simple, one-line operations, often as an argument to functions like map(), filter(), or sorted().\n",
        "\n",
        "* **EXAMPLE-** Lambda to add 2 numbers\n",
        "\n",
        "    * add = lambda x, y: x + y\n",
        "\n",
        "    * print(add(3, 5))\n",
        "\n",
        "\n"
      ],
      "metadata": {
        "id": "E0hWUIlcY24X"
      }
    },
    {
      "cell_type": "markdown",
      "source": [
        "**QUE9-** **Explain the purpose and usage of the `map()` function in Python.**\n",
        "\n",
        "**ANS-** The map() function applies a given function to each item in an iterable (like a list) and returns a map object (which can be converted to a list).\n",
        "\n",
        "**Purpose:** To quickly transform data without writing loops.\n",
        "\n",
        "**Example:**\n",
        "\n",
        "numbers = [1, 2, 3, 4]\n",
        "\n",
        "squares = list(map(lambda x: x*x, numbers))\n",
        "\n",
        "print(squares)  # [1, 4, 9, 16]"
      ],
      "metadata": {
        "id": "coPOwUc8ZYEX"
      }
    },
    {
      "cell_type": "markdown",
      "source": [
        "**QUE10-** **What is the difference between `map()`, `reduce()`, and `filter()` functions in Python?**\n",
        "\n",
        "**ANS-** **map() –** Applies a function to each element of an iterable.\n",
        "\n",
        "nums = [1, 2, 3, 4]\n",
        "\n",
        "print(list(map(lambda x: x*2, nums)))\n",
        "\n",
        "\n",
        "**filter() –** Selects elements that meet a condition (True/False).\n",
        "\n",
        "\n",
        "print(list(filter(lambda x: x%2==0, nums)))  # [2, 4]\n",
        "\n",
        "\n",
        "**reduce() –** Repeatedly applies a function to elements to reduce them to a single value (needs functools.reduce).\n",
        "\n",
        "from functools import reduce\n",
        "print(reduce(lambda x,y: x+y, nums))  # 10 (sum of all)\n",
        "\n",
        "\n",
        "✅ In short:\n",
        "\n",
        "map() → transform items\n",
        "\n",
        "filter() → select items\n",
        "\n",
        "reduce() → combine items into one value\n",
        "\n",
        "Do you want me to make a tiny exam-style table to compare them quickly?"
      ],
      "metadata": {
        "id": "6nXt0T7WcaVN"
      }
    },
    {
      "cell_type": "markdown",
      "source": [
        "**QUE11-** **Using pen & Paper write the internal mechanism for sum operation using  reduce function on this given\n",
        "list:[47,11,42,13] **\n",
        "\n",
        "**ANS-** ![ff.jpg](data:image/jpeg;base64,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)\n"
      ],
      "metadata": {
        "id": "rmIT8DEkfnQk"
      }
    },
    {
      "cell_type": "markdown",
      "source": [
        "## **Practical Questions:**\n"
      ],
      "metadata": {
        "id": "fM0mcLwDeByu"
      }
    },
    {
      "cell_type": "code",
      "source": [
        "#1 Write a Python function that takes a list of numbers as input and returns the sum of all even numbers in the list.\n",
        "\n",
        "\n",
        "def sum_even_numbers(numbers):\n",
        "    total = 0\n",
        "    for num in numbers:\n",
        "        if num % 2 == 0:   # check if number is even\n",
        "            total += num\n",
        "    return total\n",
        "\n",
        "# Example usage\n",
        "nums = [1, 2, 3, 4, 5, 6]\n",
        "print(\"Sum of even numbers:\", sum_even_numbers(nums))\n"
      ],
      "metadata": {
        "colab": {
          "base_uri": "https://localhost:8080/"
        },
        "id": "FJxRiDwkeFAT",
        "outputId": "e8996aa5-a93e-474f-a9a0-078c5069ec41"
      },
      "execution_count": null,
      "outputs": [
        {
          "output_type": "stream",
          "name": "stdout",
          "text": [
            "Sum of even numbers: 12\n"
          ]
        }
      ]
    },
    {
      "cell_type": "code",
      "source": [
        "#2. Create a Python function that accepts a string and returns the reverse of that string.\n",
        "\n",
        "def reverse_string(s):\n",
        "    return s[::-1]   # slice step -1 reverses the string\n",
        "\n",
        "# Example usage\n",
        "text = \"Deepali\"\n",
        "print(\"Reversed string:\", reverse_string(text))\n"
      ],
      "metadata": {
        "colab": {
          "base_uri": "https://localhost:8080/"
        },
        "id": "M1dZwAEVexV7",
        "outputId": "0ed56ff9-46a6-443c-ec33-cdbf65cbb630"
      },
      "execution_count": null,
      "outputs": [
        {
          "output_type": "stream",
          "name": "stdout",
          "text": [
            "Reversed string: ilapeeD\n"
          ]
        }
      ]
    },
    {
      "cell_type": "code",
      "source": [
        "#3. Implement a Python function that takes a list of integers and returns a new list containing the squares of each number.\n",
        "\n",
        "def square_list(numbers):\n",
        "    result = []\n",
        "    for num in numbers:\n",
        "        result.append(num ** 2)   # square each number\n",
        "    return result\n",
        "\n",
        "# Example usage\n",
        "nums = [1, 2, 3, 4, 5]\n",
        "print(\"Squares:\", square_list(nums))\n"
      ],
      "metadata": {
        "colab": {
          "base_uri": "https://localhost:8080/"
        },
        "id": "y3bN1VhWfCZ6",
        "outputId": "1e81dab4-6dc4-4bd3-d04a-ba355260e5c5"
      },
      "execution_count": null,
      "outputs": [
        {
          "output_type": "stream",
          "name": "stdout",
          "text": [
            "Squares: [1, 4, 9, 16, 25]\n"
          ]
        }
      ]
    },
    {
      "cell_type": "code",
      "source": [
        "#4. Write a Python function that checks if a given number is prime or not from 1 to 200.\n",
        "\n",
        "def is_prime(n):\n",
        "    if n <= 1:\n",
        "        return False\n",
        "    for i in range(2, int(n**0.5) + 1):  # check divisors up to sqrt(n)\n",
        "        if n % i == 0:\n",
        "            return False\n",
        "    return True\n",
        "\n",
        "# Print prime numbers from 1 to 200\n",
        "for num in range(1, 201):\n",
        "    if is_prime(num):\n",
        "        print(num, end=\" \")\n"
      ],
      "metadata": {
        "colab": {
          "base_uri": "https://localhost:8080/"
        },
        "id": "AcbAMQ4dfThP",
        "outputId": "087aaa72-2c34-45a5-9316-04e0dd47c5a5"
      },
      "execution_count": null,
      "outputs": [
        {
          "output_type": "stream",
          "name": "stdout",
          "text": [
            "2 3 5 7 11 13 17 19 23 29 31 37 41 43 47 53 59 61 67 71 73 79 83 89 97 101 103 107 109 113 127 131 137 139 149 151 157 163 167 173 179 181 191 193 197 199 "
          ]
        }
      ]
    },
    {
      "cell_type": "code",
      "source": [
        "#5. Create an iterator class in Python that generates the Fibonacci sequence up to a specified number of terms.\n",
        "\n",
        "class Fibonacci:\n",
        "    def __init__(self, n_terms):\n",
        "        self.n_terms = n_terms\n",
        "        self.count = 0\n",
        "        self.a = 0\n",
        "        self.b = 1\n",
        "\n",
        "    def __iter__(self):\n",
        "        return self\n",
        "\n",
        "    def __next__(self):\n",
        "        if self.count >= self.n_terms:\n",
        "            raise StopIteration\n",
        "        if self.count == 0:\n",
        "            self.count += 1\n",
        "            return self.a\n",
        "        elif self.count == 1:\n",
        "            self.count += 1\n",
        "            return self.b\n",
        "        else:\n",
        "            self.a, self.b = self.b, self.a + self.b\n",
        "            self.count += 1\n",
        "            return self.b\n",
        "\n",
        "# Example usage\n",
        "fib_seq = Fibonacci(10)\n",
        "for num in fib_seq:\n",
        "    print(num, end=\" \")\n"
      ],
      "metadata": {
        "colab": {
          "base_uri": "https://localhost:8080/"
        },
        "id": "0L7j6bAPf0Cm",
        "outputId": "f8418263-fffa-4d09-c865-6e7ad7d73ab2"
      },
      "execution_count": null,
      "outputs": [
        {
          "output_type": "stream",
          "name": "stdout",
          "text": [
            "0 1 1 2 3 5 8 13 21 34 "
          ]
        }
      ]
    },
    {
      "cell_type": "code",
      "source": [
        "#6. Write a generator function in Python that yields the powers of 2 up to a given exponent.\n",
        "\n",
        "def powers_of_two(n):\n",
        "    for i in range(n + 1):\n",
        "        yield 2 ** i   # yield 2 to the power i\n",
        "\n",
        "# Example usage\n",
        "for value in powers_of_two(5):\n",
        "    print(value, end=\" \")\n"
      ],
      "metadata": {
        "colab": {
          "base_uri": "https://localhost:8080/"
        },
        "id": "ojnizrRtgSPX",
        "outputId": "cad94c29-987d-4c7c-aa7d-f14175024df0"
      },
      "execution_count": null,
      "outputs": [
        {
          "output_type": "stream",
          "name": "stdout",
          "text": [
            "1 2 4 8 16 32 "
          ]
        }
      ]
    },
    {
      "cell_type": "code",
      "source": [
        "#7. Implement a generator function that reads a file line by line and yields each line as a string.\n",
        "\n",
        "def read_file_line_by_line(filename):\n",
        "    with open(filename, 'r') as file:\n",
        "        for line in file:\n",
        "            yield line.strip()   # strip() removes \\n at the end\n",
        "\n",
        "# Create a sample file so it won't throw FileNotFoundError\n",
        "with open(\"example.txt\", \"w\") as f:\n",
        "    f.write(\"Hello World\\n\")\n",
        "    f.write(\"This is line 2\\n\")\n",
        "    f.write(\"This is line 3\\n\")\n",
        "\n",
        "# Example usage:\n",
        "for line in read_file_line_by_line(\"example.txt\"):\n",
        "    print(line)\n"
      ],
      "metadata": {
        "id": "8Uw3FAjeg_QT",
        "colab": {
          "base_uri": "https://localhost:8080/"
        },
        "outputId": "3ecfb3ac-b5f3-4374-cd7d-12248b05c23e"
      },
      "execution_count": 7,
      "outputs": [
        {
          "output_type": "stream",
          "name": "stdout",
          "text": [
            "Hello World\n",
            "This is line 2\n",
            "This is line 3\n"
          ]
        }
      ]
    },
    {
      "cell_type": "code",
      "source": [
        "#8. Use a lambda function in Python to sort a list of tuples based on the second element of each tuple.\n",
        "\n",
        "# List of tuples\n",
        "data = [(1, 5), (2, 2), (3, 8), (4, 1)]\n",
        "\n",
        "# Sort using lambda (by second element)\n",
        "sorted_data = sorted(data, key=lambda x: x[1])\n",
        "\n",
        "print(sorted_data)\n"
      ],
      "metadata": {
        "colab": {
          "base_uri": "https://localhost:8080/"
        },
        "id": "Mu9ltWcJh5o1",
        "outputId": "e2c64759-3312-43f2-b4a2-caf9e91f2921"
      },
      "execution_count": null,
      "outputs": [
        {
          "output_type": "stream",
          "name": "stdout",
          "text": [
            "[(4, 1), (2, 2), (1, 5), (3, 8)]\n"
          ]
        }
      ]
    },
    {
      "cell_type": "code",
      "source": [
        "#9. Write a Python program that uses `map()` to convert a list of temperatures from Celsius to Fahrenheit.\n",
        "\n",
        "# List of temperatures in Celsius\n",
        "celsius = [0, 20, 37, 100]\n",
        "\n",
        "# Function to convert Celsius to Fahrenheit\n",
        "def c_to_f(c):\n",
        "    return (c * 9/5) + 32\n",
        "\n",
        "# Using map() to apply the function to the list\n",
        "fahrenheit = list(map(c_to_f, celsius))\n",
        "\n",
        "print(fahrenheit)\n"
      ],
      "metadata": {
        "colab": {
          "base_uri": "https://localhost:8080/"
        },
        "id": "xOaA0vXBiHW0",
        "outputId": "e3bcbaa9-190d-4fc5-ec14-73a41e0d0fbe"
      },
      "execution_count": null,
      "outputs": [
        {
          "output_type": "stream",
          "name": "stdout",
          "text": [
            "[32.0, 68.0, 98.6, 212.0]\n"
          ]
        }
      ]
    },
    {
      "cell_type": "code",
      "source": [
        "#10. Create a Python program that uses `filter()` to remove all the vowels from a given string.\n",
        "\n",
        "# Input string\n",
        "text = \"Deepali Pundir\"\n",
        "\n",
        "# Function to check if a character is not a vowel\n",
        "def not_vowel(char):\n",
        "    return char.lower() not in 'aeiou'\n",
        "\n",
        "# Use filter() to remove vowels\n",
        "result = ''.join(filter(not_vowel, text))\n",
        "\n",
        "print(result)\n"
      ],
      "metadata": {
        "colab": {
          "base_uri": "https://localhost:8080/"
        },
        "id": "7fU4uQkVivfm",
        "outputId": "435443e7-53de-4dec-a451-b3922671f036"
      },
      "execution_count": null,
      "outputs": [
        {
          "output_type": "stream",
          "name": "stdout",
          "text": [
            "Dpl Pndr\n"
          ]
        }
      ]
    },
    {
      "cell_type": "code",
      "source": [
        "    #11) Imagine an accounting routine used in a book shop. It works on a list with sublists, which look like this:\n",
        "    #order no.  book title and author               Quantity   Price per item\n",
        "    #34587    Learning Python, Mark Lutz              4        40.95\n",
        "    #98762    Programming Python  Mark Lutz           5        56.80\n",
        "    #77226    Head First Python, Paul Barry           3        32.95\n",
        "    #88112    Einführung in Python3, Bernd Klein      3        24.99\n",
        "#Write a Python program, which returns a list with 2-tuples. Each tuple consists of the order number and the product of the price per item and the quantity. The product should be increased by 10,- € if the value of the order is smaller than 100,00 €.\n",
        "\n",
        "#Write a Python program using lambda and map.\n",
        "\n",
        "\n",
        "\n",
        "# List of orders: [Order Number, Book Title, Quantity, Price per Item]\n",
        "orders = [\n",
        "    [34587, \"Learning Python, Mark Lutz\", 4, 40.95],\n",
        "    [98762, \"Programming Python, Mark Lutz\", 5, 56.80],\n",
        "    [77226, \"Head First Python, Paul Barry\", 3, 32.95],\n",
        "    [88112, \"Einführung in Python3, Bernd Klein\", 3, 24.99]\n",
        "]\n",
        "\n",
        "# Function to calculate total and add 10 if total < 100\n",
        "calculate_total = lambda order: (\n",
        "    order[0],\n",
        "    order[2] * order[3] + (10 if order[2] * order[3] < 100 else 0)\n",
        ")\n",
        "\n",
        "# Apply the lambda function using map\n",
        "result = list(map(calculate_total, orders))\n",
        "\n",
        "print(result)\n"
      ],
      "metadata": {
        "colab": {
          "base_uri": "https://localhost:8080/"
        },
        "id": "iFbCLWoBlmhp",
        "outputId": "f9fb0ca4-86d2-48f7-89d0-8229d4440b21"
      },
      "execution_count": null,
      "outputs": [
        {
          "output_type": "stream",
          "name": "stdout",
          "text": [
            "[(34587, 163.8), (98762, 284.0), (77226, 108.85000000000001), (88112, 84.97)]\n"
          ]
        }
      ]
    }
  ]
}